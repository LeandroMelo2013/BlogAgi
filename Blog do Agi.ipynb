{
 "cells": [
  {
   "cell_type": "code",
   "execution_count": 4,
   "id": "f9667de0",
   "metadata": {},
   "outputs": [],
   "source": [
    "### Automação página Blog do Agi \n",
    "\n",
    "# Abrir o navegador\n",
    "# Acessar a página \"https://blogdoagi.com.br/\"\n",
    "# Clicar a lupa no canto superior esquerdo\n",
    "# Digitar no campo de pesquisa o que procura\n",
    "# Clicar no botão Pesquisar"
   ]
  },
  {
   "cell_type": "code",
   "execution_count": 41,
   "id": "1f1796fc",
   "metadata": {},
   "outputs": [],
   "source": [
    "# Abrir o navegador\n",
    "# Acessar a página \"https://blogdoagi.com.br/\"\n",
    "\n",
    "from selenium import webdriver\n",
    "from selenium.webdriver.common.by import By\n",
    "\n",
    "chrome_options = webdriver.ChromeOptions()\n",
    "\n",
    "navegador = webdriver.Chrome()\n",
    "navegador.maximize_window()\n",
    "navegador.get(\"https://blogdoagi.com.br/\")"
   ]
  },
  {
   "cell_type": "code",
   "execution_count": 42,
   "id": "324c1b65",
   "metadata": {},
   "outputs": [],
   "source": [
    "# Clicar a lupa no canto superior esquerdo\n",
    "navegador.find_element('xpath','//*[@id=\"search-open\"]').click()"
   ]
  },
  {
   "cell_type": "code",
   "execution_count": 43,
   "id": "8207d0cb",
   "metadata": {},
   "outputs": [],
   "source": [
    "# Digitar no campo de pesquisa o que procura\n",
    "navegador.find_element('xpath','//*[@id=\"masthead\"]/div[1]/div[2]/form/label/input').send_keys(\"Saldo Agibank\")"
   ]
  },
  {
   "cell_type": "code",
   "execution_count": 44,
   "id": "ebeffef2",
   "metadata": {},
   "outputs": [],
   "source": [
    "# Clicar no botão Pesquisar\n",
    "navegador.find_element('xpath','//*[@id=\"masthead\"]/div[1]/div[2]/form/input').click()"
   ]
  },
  {
   "cell_type": "code",
   "execution_count": null,
   "id": "e48c9f18",
   "metadata": {},
   "outputs": [],
   "source": []
  }
 ],
 "metadata": {
  "kernelspec": {
   "display_name": "Python 3 (ipykernel)",
   "language": "python",
   "name": "python3"
  },
  "language_info": {
   "codemirror_mode": {
    "name": "ipython",
    "version": 3
   },
   "file_extension": ".py",
   "mimetype": "text/x-python",
   "name": "python",
   "nbconvert_exporter": "python",
   "pygments_lexer": "ipython3",
   "version": "3.11.5"
  }
 },
 "nbformat": 4,
 "nbformat_minor": 5
}
